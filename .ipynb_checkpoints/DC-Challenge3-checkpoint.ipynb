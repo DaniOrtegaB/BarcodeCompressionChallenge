{
 "cells": [
  {
   "cell_type": "code",
   "execution_count": 1,
   "metadata": {},
   "outputs": [],
   "source": [
    "import numpy as np\n",
    "import imageio\n",
    "from matplotlib import pyplot as plt\n",
    "import math"
   ]
  },
  {
   "cell_type": "code",
   "execution_count": null,
   "metadata": {},
   "outputs": [],
   "source": []
  },
  {
   "cell_type": "code",
   "execution_count": 54,
   "metadata": {},
   "outputs": [
    {
     "name": "stdout",
     "output_type": "stream",
     "text": [
      "---------\n",
      "12\n",
      "[255 255 255 255 255 255 255 255 255 255 255 255 151   0  23 255  87 151\n",
      " 255 255  23 215 255 255 255 255  87 151 255 255  23   0   0   0  23 255\n",
      "  87 151 255 255  23 215 151   0  23 255 255 151  87 255 255 255 255 215\n",
      "  23 255 255 151  87 255  23   0 151 255 255 255 255 151  87 255 255  87\n",
      " 151 255 255  23   0   0   0  23 255  87 151 255 255 255 255 151  87 255\n",
      " 255  87   0  87 255  23 215 255 215  23 255 255 151   0   0   0   0 151\n",
      " 215  23 255 255 255 215   0   0   0   0  87 255  23 215 151  87 255  23\n",
      " 215 255 215   0   0   0   0  87 255 255  87 151 255 255  23   0 151 255\n",
      " 255 255  87 151 255 255  23 215 151   0   0   0   0 151 255 255  23 215\n",
      " 255 215   0   0   0 151 255 255 255  87   0  87 255  23 215 151   0  23\n",
      " 255 255 255 215   0   0   0 151 215  23 255  87   0  87 255 255 255 255\n",
      " 255 255 255 255 255 255 255 255]\n",
      "La fila es repeteix fins la fila 100\n"
     ]
    },
    {
     "data": {
      "image/png": "[encoded data removed]",
      "text/plain": [
       "<Figure size 432x288 with 1 Axes>"
      ]
     },
     "metadata": {
      "needs_background": "light"
     },
     "output_type": "display_data"
    }
   ],
   "source": [
    "img = imageio.imread(\"barcodes/sample-000001.png\")\n",
    "plt.imshow(img) #im\n",
    "\n",
    "primeraLinea = 0\n",
    "segonaLinea = 0\n",
    "ultimaRepetida = 0\n",
    "\n",
    "for fila in range(img.shape[0]):\n",
    "    for columna in range(img.shape[1]):\n",
    "        if img[fila][columna] != 255:\n",
    "            if primeraLinea == 0:\n",
    "                primeraLinea = fila\n",
    "                segonaLinea = fila+1\n",
    "\n",
    "\n",
    "segonaLinea = img[segonaLinea]\n",
    "\n",
    "for x in range(primeraLinea+1, img.shape[0]):\n",
    "    \n",
    "    if False in (img[x] == segonaLinea):\n",
    "        if ultimaRepetida == 0:\n",
    "            ultimaRepetida = x\n",
    "\n",
    "print('---------')\n",
    "print(primeraLinea)\n",
    "print(segonaLinea)\n",
    "print(\"La fila es repeteix fins la fila\", ultimaRepetida)\n"
   ]
  },
  {
   "cell_type": "code",
   "execution_count": null,
   "metadata": {},
   "outputs": [],
   "source": []
  },
  {
   "cell_type": "code",
   "execution_count": 85,
   "metadata": {},
   "outputs": [
    {
     "name": "stdout",
     "output_type": "stream",
     "text": [
      "2\n"
     ]
    }
   ],
   "source": [
    "for i in range(2,4):\n",
    "    print(i)\n",
    "    if i ==2:\n",
    "        break;"
   ]
  },
  {
   "cell_type": "code",
   "execution_count": 10,
   "metadata": {},
   "outputs": [
    {
     "data": {
      "text/plain": [
       "125"
      ]
     },
     "execution_count": 10,
     "metadata": {},
     "output_type": "execute_result"
    }
   ],
   "source": [
    "img.shape[0]"
   ]
  },
  {
   "cell_type": "code",
   "execution_count": 56,
   "metadata": {},
   "outputs": [
    {
     "name": "stdout",
     "output_type": "stream",
     "text": [
      "Generat Codebook\n"
     ]
    }
   ],
   "source": [
    "#Fins ara tenim una funcio que retorna la ultima fila que es repeteix dins del barcode\n",
    "# codeBook = primeraLinia + SegonaLinia + totes les linies que no es repeteixen\n",
    "# a cada linia li podem dir codeword\n",
    "# per ara hardcodegem les mesures, ja les enviarem\n",
    "\n",
    "codeBook =[]\n",
    "codeBook.append(img[primeraLinea])\n",
    "codeBook.append(segonaLinea)\n",
    "\n",
    "for i in range(ultimaRepetida, img.shape[0]):\n",
    "    codeBook.append(img[i])\n",
    "print(\"Generat Codebook\")\n"
   ]
  },
  {
   "cell_type": "code",
   "execution_count": null,
   "metadata": {},
   "outputs": [],
   "source": []
  },
  {
   "cell_type": "code",
   "execution_count": 57,
   "metadata": {},
   "outputs": [],
   "source": [
    "#Aqui comencem a generar la imatge a partir del Codebook\n",
    "#aqui no estic segur si es int64 o uint64, i img.shape esta hardcoded es pasara pel binari\n",
    "recoveredImage = np.empty((img.shape[0],img.shape[1]), dtype=\"uint8\")\n",
    "#recoveredImage=[]\n",
    "liniesBlanques = np.arange(img.shape[1])\n",
    "liniesBlanques.fill(255)\n",
    "\n",
    "for indexLiniaBlanca in range(0,12): #12 pot ser primeraLinea\n",
    "    recoveredImage[indexLiniaBlanca] = (liniesBlanques[indexLiniaBlanca])\n",
    "    #recoveredImage.append(liniesBlanques[indexLiniaBlanca])\n",
    "#fins aqui omplim les primeres linies de blanc\n",
    "inedxMatriu=12\n",
    "#for codeWord in codeBook:\n",
    "valor=ultimaRepetida\n",
    "for index,codeWord in enumerate(codeBook):\n",
    "    if index==0:\n",
    "        recoveredImage[12] = codeWord\n",
    "        #recoveredImage.append(codeWord)\n",
    "    else:\n",
    "        if index==1:\n",
    "            for comuns in range(primeraLinea+1, ultimaRepetida):\n",
    "                recoveredImage[comuns] = codeWord\n",
    "                #recoveredImage.append(codeWord)\n",
    "        else:\n",
    "            recoveredImage[ultimaRepetida+index-2] = codeWord\n",
    "            #recoveredImage.append(codeWord)\n",
    "\n",
    "img2 = np.array(recoveredImage).reshape(img.shape[0], img.shape[1])\n",
    "\n",
    "    "
   ]
  },
  {
   "cell_type": "code",
   "execution_count": 58,
   "metadata": {},
   "outputs": [
    {
     "data": {
      "text/plain": [
       "<matplotlib.image.AxesImage at 0x2ad17b76d00>"
      ]
     },
     "execution_count": 58,
     "metadata": {},
     "output_type": "execute_result"
    },
    {
     "data": {
      "image/png": "[encoded data removed]",
      "text/plain": [
       "<Figure size 432x288 with 1 Axes>"
      ]
     },
     "metadata": {
      "needs_background": "light"
     },
     "output_type": "display_data"
    }
   ],
   "source": [
    "plt.imshow(img2)"
   ]
  },
  {
   "cell_type": "code",
   "execution_count": 59,
   "metadata": {},
   "outputs": [
    {
     "name": "stdout",
     "output_type": "stream",
     "text": [
      "0.0\n"
     ]
    }
   ],
   "source": [
    "def getMSE(img1, img2):  # MSE of 2 images\n",
    "    return (np.sum(np.square(img1 - img2))) / img1.size\n",
    "\n",
    "print(getMSE(img,img2))"
   ]
  }
 ],
 "metadata": {
  "kernelspec": {
   "display_name": "Python 3",
   "language": "python",
   "name": "python3"
  },
  "language_info": {
   "codemirror_mode": {
    "name": "ipython",
    "version": 3
   },
   "file_extension": ".py",
   "mimetype": "text/x-python",
   "name": "python",
   "nbconvert_exporter": "python",
   "pygments_lexer": "ipython3",
   "version": "3.8.3"
  }
 },
 "nbformat": 4,
 "nbformat_minor": 4
}

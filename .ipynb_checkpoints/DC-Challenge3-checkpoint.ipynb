{
 "cells": [
  {
   "cell_type": "code",
   "execution_count": 1,
   "metadata": {},
   "outputs": [],
   "source": [
    "import numpy as np\n",
    "import imageio\n",
    "from matplotlib import pyplot as plt\n",
    "import math"
   ]
  },
  {
   "cell_type": "code",
   "execution_count": 2,
   "metadata": {},
   "outputs": [],
   "source": [
    "class OutputBitstream:\n",
    "    def __init__(self, filename):\n",
    "        self.filename = filename\n",
    "       \n",
    "    def __enter__(self):\n",
    "        self.word = 0\n",
    "        self.word_bits = 0\n",
    "        self.file = open(self.filename, \"wb\")\n",
    "        return self\n",
    "       \n",
    "    def write(self, value, length):\n",
    "        assert isinstance(value, int), \"value must be integer\"\n",
    "        assert isinstance(length, int), \"length must be integer\"\n",
    "        assert value >= 0, \"value must be non negative\"\n",
    "        assert value < 2 ** length, \"value must be smaller than 2 ** length\"\n",
    "       \n",
    "        self.word <<= length\n",
    "        self.word |= value\n",
    "        self.word_bits += length\n",
    "   \n",
    "        if self.word_bits >= 64:\n",
    "            remaining = self.word_bits - 64\n",
    "            self.file.write((self.word >> remaining).to_bytes(8, byteorder=\"big\", signed=False))\n",
    "            self.word &= (1 << remaining) - 1\n",
    "            self.word_bits = remaining\n",
    "   \n",
    "    def __exit__(self, exc_type, exc_val, exc_tb):\n",
    "        if self.word_bits != 0:\n",
    "            self.write(0, 64 - self.word_bits)\n",
    "           \n",
    "        self.file.close()"
   ]
  },
  {
   "cell_type": "code",
   "execution_count": 3,
   "metadata": {},
   "outputs": [],
   "source": [
    "class InputBitstream:\n",
    "    def __init__(self, filename):\n",
    "        self.filename = filename\n",
    "       \n",
    "    def __enter__(self):\n",
    "        self.word = 0\n",
    "        self.word_bits = 0\n",
    "        self.file = open(self.filename, \"rb\")\n",
    "        return self\n",
    "       \n",
    "    def read(self, length):\n",
    "        assert length < 8 * 32, \"length is too large\"\n",
    "       \n",
    "        if length > self.word_bits:\n",
    "            value = self.file.read(32)\n",
    "            self.word <<= len(value) * 8\n",
    "            self.word_bits += len(value) * 8\n",
    "            self.word |= int.from_bytes(value, byteorder=\"big\", signed=False)\n",
    "           \n",
    "        if length > self.word_bits:\n",
    "            raise \"Unexpected end of file\"\n",
    "               \n",
    "        result = self.word >> (self.word_bits - length)\n",
    "        self.word_bits -= length\n",
    "        self.word &= (1 << self.word_bits) - 1\n",
    "       \n",
    "        return result\n",
    "   \n",
    "    def __exit__(self, exc_type, exc_val, exc_tb):    \n",
    "        self.file.close()"
   ]
  },
  {
   "cell_type": "code",
   "execution_count": 17,
   "metadata": {},
   "outputs": [
    {
     "name": "stdout",
     "output_type": "stream",
     "text": [
      "---------\n",
      "12\n",
      "[255 255 255 255 255 255 255 255 255 255 255 255 151   0  23 255  87 151\n",
      " 255 255  23 215 255 255 255 255  87 151 255 255  23   0   0   0  23 255\n",
      "  87 151 255 255  23 215 151   0  23 255 255 151  87 255 255 255 255 215\n",
      "  23 255 255 151  87 255  23   0 151 255 255 255 255 151  87 255 255  87\n",
      " 151 255 255  23   0   0   0  23 255  87 151 255 255 255 255 151  87 255\n",
      " 255  87   0  87 255  23 215 255 215  23 255 255 151   0   0   0   0 151\n",
      " 215  23 255 255 255 215   0   0   0   0  87 255  23 215 151  87 255  23\n",
      " 215 255 215   0   0   0   0  87 255 255  87 151 255 255  23   0 151 255\n",
      " 255 255  87 151 255 255  23 215 151   0   0   0   0 151 255 255  23 215\n",
      " 255 215   0   0   0 151 255 255 255  87   0  87 255  23 215 151   0  23\n",
      " 255 255 255 215   0   0   0 151 215  23 255  87   0  87 255 255 255 255\n",
      " 255 255 255 255 255 255 255 255]\n",
      "La fila es repeteix fins la fila 100\n"
     ]
    },
    {
     "data": {
      "image/png": "[encoded data removed]",
      "text/plain": [
       "<Figure size 432x288 with 1 Axes>"
      ]
     },
     "metadata": {
      "needs_background": "light"
     },
     "output_type": "display_data"
    }
   ],
   "source": [
    "img = imageio.imread(\"barcodes/sample-000001.png\")\n",
    "plt.imshow(img) #im\n",
    "\n",
    "primeraLinea = 0\n",
    "segonaLinea = 0\n",
    "ultimaRepetida = 0\n",
    "\n",
    "for fila in range(img.shape[0]):\n",
    "    for columna in range(img.shape[1]):\n",
    "        if img[fila][columna] != 255:\n",
    "            if primeraLinea == 0:\n",
    "                primeraLinea = fila\n",
    "                segonaLinea = fila+1\n",
    "\n",
    "\n",
    "segonaLinea = img[segonaLinea]\n",
    "\n",
    "for x in range(primeraLinea+1, img.shape[0]):\n",
    "    \n",
    "    if False in (img[x] == segonaLinea):\n",
    "        if ultimaRepetida == 0:\n",
    "            ultimaRepetida = x\n",
    "\n",
    "print('---------')\n",
    "print(primeraLinea)\n",
    "print(segonaLinea)\n",
    "print(\"La fila es repeteix fins la fila\", ultimaRepetida)\n"
   ]
  },
  {
   "cell_type": "code",
   "execution_count": 24,
   "metadata": {},
   "outputs": [
    {
     "name": "stdout",
     "output_type": "stream",
     "text": [
      "[255 255 255 255 255 255 255 255 255 255 255 255 203 127 139 255 171 203\n",
      " 255 255 139 235 255 255 255 255 171 203 255 255 139 127 127 127 139 255\n",
      " 171 203 255 255 139 235 203 127 139 255 255 203 171 255 255 255 255 235\n",
      " 139 255 255 203 171 255 139 127 203 255 255 255 255 203 171 255 255 171\n",
      " 203 255 255 139 127 127 127 139 255 171 203 255 255 255 255 203 171 255\n",
      " 255 171 127 171 255 139 235 255 235 139 255 255 203 127 127 127 127 203\n",
      " 235 139 255 255 255 235 127 127 127 127 171 255 139 235 203 171 255 139\n",
      " 235 255 235 127 127 127 127 171 255 255 171 203 255 255 139 127 203 255\n",
      " 255 255 171 203 255 255 139 235 203 127 127 127 127 203 255 255 139 235\n",
      " 255 235 127 127 127 203 255 255 255 171 127 171 255 139 235 203 127 139\n",
      " 255 255 255 235 127 127 127 203 235 139 255 171 127 171 255 255 255 255\n",
      " 255 255 255 255 255 255 255 255]\n",
      "[255 255 255 255 255 255 255 255 255 255 255 255 151   0  23 255  87 151\n",
      " 255 255  23 215 255 255 255 255  87 151 255 255  23   0   0   0  23 255\n",
      "  87 151 255 255  23 215 151   0  23 255 255 151  87 255 255 255 255 215\n",
      "  23 255 255 151  87 255  23   0 151 255 255 255 255 151  87 255 255  87\n",
      " 151 255 255  23   0   0   0  23 255  87 151 255 255 255 255 151  87 255\n",
      " 255  87   0  87 255  23 215 255 215  23 255 255 151   0   0   0   0 151\n",
      " 215  23 255 255 255 215   0   0   0   0  87 255  23 215 151  87 255  23\n",
      " 215 255 215   0   0   0   0  87 255 255  87 151 255 255  23   0 151 255\n",
      " 255 255  87 151 255 255  23 215 151   0   0   0   0 151 255 255  23 215\n",
      " 255 215   0   0   0 151 255 255 255  87   0  87 255  23 215 151   0  23\n",
      " 255 255 255 215   0   0   0 151 215  23 255  87   0  87 255 255 255 255\n",
      " 255 255 255 255 255 255 255 255]\n"
     ]
    }
   ],
   "source": [
    "print(img[primeraLinea])\n",
    "print(img[primeraLinea+1])"
   ]
  },
  {
   "cell_type": "code",
   "execution_count": 28,
   "metadata": {},
   "outputs": [
    {
     "name": "stdout",
     "output_type": "stream",
     "text": [
      "[ True  True  True  True  True  True  True  True  True  True  True  True\n",
      "  True  True  True  True  True  True  True  True  True  True  True  True\n",
      "  True  True  True  True  True  True  True  True  True  True  True  True\n",
      "  True  True  True  True  True  True  True  True  True  True  True  True\n",
      "  True  True  True  True  True  True  True  True  True  True  True  True\n",
      "  True  True  True  True  True  True  True  True  True  True  True  True\n",
      "  True  True  True  True  True  True  True  True  True  True  True  True\n",
      "  True  True  True  True  True  True  True  True  True  True  True  True\n",
      "  True  True  True  True  True  True  True  True  True  True  True  True\n",
      "  True  True  True  True  True  True  True  True  True  True  True  True\n",
      "  True  True  True  True  True  True  True  True  True  True  True  True\n",
      "  True  True  True  True  True  True  True  True  True  True  True  True\n",
      "  True  True  True  True  True  True  True  True  True  True  True  True\n",
      "  True  True  True  True  True  True  True  True  True  True  True  True\n",
      "  True  True  True  True  True  True  True  True  True  True  True  True\n",
      "  True  True  True  True  True  True  True  True  True  True  True  True\n",
      "  True  True  True  True  True  True  True  True  True  True  True  True\n",
      "  True  True]\n"
     ]
    }
   ],
   "source": [
    "#Obtenir la primera a partir de la segona --> mitja del valor i color blanc(255)\n",
    "computedPrimera = []\n",
    "\n",
    "for el in img[primeraLinea+1]:\n",
    "    newVal = (el+255)//2\n",
    "    if newVal> (el+(255//2)+0.5):\n",
    "        newVal+=1\n",
    "    computedPrimera.append(newVal)\n",
    "\n",
    "print(computedPrimera == img[primeraLinea])"
   ]
  },
  {
   "cell_type": "code",
   "execution_count": 5,
   "metadata": {},
   "outputs": [
    {
     "name": "stdout",
     "output_type": "stream",
     "text": [
      "2\n"
     ]
    }
   ],
   "source": [
    "for i in range(2,4):\n",
    "    print(i)\n",
    "    if i ==2:\n",
    "        break;"
   ]
  },
  {
   "cell_type": "code",
   "execution_count": 6,
   "metadata": {},
   "outputs": [
    {
     "data": {
      "text/plain": [
       "125"
      ]
     },
     "execution_count": 6,
     "metadata": {},
     "output_type": "execute_result"
    }
   ],
   "source": [
    "img.shape[0]"
   ]
  },
  {
   "cell_type": "code",
   "execution_count": 3,
   "metadata": {},
   "outputs": [
    {
     "name": "stdout",
     "output_type": "stream",
     "text": [
      "Generat Codebook\n"
     ]
    }
   ],
   "source": [
    "#Fins ara tenim una funcio que retorna la ultima fila que es repeteix dins del barcode\n",
    "# codeBook = primeraLinia + SegonaLinia + totes les linies que no es repeteixen\n",
    "# a cada linia li podem dir codeword\n",
    "# per ara hardcodegem les mesures, ja les enviarem\n",
    "\n",
    "codeBook =[]\n",
    "codeBook.append(img[primeraLinea])\n",
    "codeBook.append(segonaLinea)\n",
    "\n",
    "wordImage = []\n",
    "\n",
    "for i in range(ultimaRepetida, img.shape[0]):\n",
    "    for value in img[i]:   \n",
    "        wordImage.append(value)\n",
    "    codeBook.append(img[i])\n",
    "#wordImageNP = np.array(wordImage)\n",
    "#wordImageNP.resize(img.shape[1],img.shape[0]-ultimaRepetida)\n",
    "\n",
    "print(\"Generat Codebook\")\n"
   ]
  },
  {
   "cell_type": "code",
   "execution_count": null,
   "metadata": {},
   "outputs": [],
   "source": []
  },
  {
   "cell_type": "code",
   "execution_count": 11,
   "metadata": {},
   "outputs": [],
   "source": [
    "#Escribim el codeBook\n",
    "with OutputBitstream(\"quantized.bin\") as f:\n",
    "    f.write(img.shape[0], 32)\n",
    "    f.write(img.shape[1], 32)\n",
    "    f.write(len(codeBook), 32)\n",
    "    #write codebbook\n",
    "    #tambe hauriem d'afegir els index de primeraLinea i ultimaRepetida\n",
    "    for codeword in codeBook:\n",
    "        for value in codeword:\n",
    "            f.write(int(value), 8)\n",
    "#surt un binari de 6KB quan la foto es de 1KB, mu mal\n"
   ]
  },
  {
   "cell_type": "code",
   "execution_count": null,
   "metadata": {},
   "outputs": [],
   "source": []
  },
  {
   "cell_type": "code",
   "execution_count": 12,
   "metadata": {},
   "outputs": [
    {
     "ename": "IndexError",
     "evalue": "index 125 is out of bounds for axis 0 with size 125",
     "output_type": "error",
     "traceback": [
      "\u001b[0;31m---------------------------------------------------------------------------\u001b[0m",
      "\u001b[0;31mIndexError\u001b[0m                                Traceback (most recent call last)",
      "\u001b[0;32m<ipython-input-12-04d3fc58316d>\u001b[0m in \u001b[0;36m<module>\u001b[0;34m\u001b[0m\n\u001b[1;32m     27\u001b[0m                     \u001b[0;31m#recoveredImage.append(codeWord)\u001b[0m\u001b[0;34m\u001b[0m\u001b[0;34m\u001b[0m\u001b[0;34m\u001b[0m\u001b[0m\n\u001b[1;32m     28\u001b[0m             \u001b[0;32melse\u001b[0m\u001b[0;34m:\u001b[0m\u001b[0;34m\u001b[0m\u001b[0;34m\u001b[0m\u001b[0m\n\u001b[0;32m---> 29\u001b[0;31m                 \u001b[0mrecoveredImage\u001b[0m\u001b[0;34m[\u001b[0m\u001b[0multimaRepetida\u001b[0m\u001b[0;34m+\u001b[0m\u001b[0mindex\u001b[0m\u001b[0;34m]\u001b[0m \u001b[0;34m=\u001b[0m \u001b[0mcodeWord\u001b[0m\u001b[0;34m\u001b[0m\u001b[0;34m\u001b[0m\u001b[0m\n\u001b[0m\u001b[1;32m     30\u001b[0m                 \u001b[0;31m#recoveredImage.append(codeWord)\u001b[0m\u001b[0;34m\u001b[0m\u001b[0;34m\u001b[0m\u001b[0;34m\u001b[0m\u001b[0m\n\u001b[1;32m     31\u001b[0m \u001b[0;34m\u001b[0m\u001b[0m\n",
      "\u001b[0;31mIndexError\u001b[0m: index 125 is out of bounds for axis 0 with size 125"
     ]
    }
   ],
   "source": [
    "with InputBitstream(\"quantized.bin\") as f:\n",
    "    x = f.read(32)\n",
    "    y = f.read(32)\n",
    "    lenCodeBook = f.read(32)\n",
    "    \n",
    "    recoveredImage = np.empty((x,y), dtype=\"uint8\")\n",
    "    \n",
    "    liniesBlanques = np.arange(y)\n",
    "    liniesBlanques.fill(255)\n",
    "\n",
    "    for indexLiniaBlanca in range(0,12): #12 pot ser primeraLinea\n",
    "        recoveredImage[indexLiniaBlanca] = (liniesBlanques[indexLiniaBlanca])\n",
    "        #recoveredImage.append(liniesBlanques[indexLiniaBlanca])\n",
    "    #fins aqui omplim les primeres linies de blanc\n",
    "    inedxMatriu=12\n",
    "    #for codeWord in codeBook:\n",
    "    valor=ultimaRepetida\n",
    "    for index in range (0,lenCodeBook):\n",
    "        codeWord= f.read(8)\n",
    "        if i==0:\n",
    "            recoveredImage[12] = codeWord\n",
    "            #recoveredImage.append(codeWord)\n",
    "        else:\n",
    "            if index==1:\n",
    "                for comuns in range(primeraLinea+1, ultimaRepetida):\n",
    "                    recoveredImage[comuns] = codeWord\n",
    "                    #recoveredImage.append(codeWord)\n",
    "            else:\n",
    "                recoveredImage[ultimaRepetida+index] = codeWord\n",
    "                #recoveredImage.append(codeWord)\n",
    "\n",
    "    img2 = np.array(recoveredImage).reshape(img.shape[0], img.shape[1])\n",
    "   \n",
    "    \n",
    "    "
   ]
  },
  {
   "cell_type": "code",
   "execution_count": 13,
   "metadata": {},
   "outputs": [],
   "source": [
    "#Aqui comencem a generar la imatge a partir del Codebook\n",
    "#aqui no estic segur si es int64 o uint64, i img.shape esta hardcoded es pasara pel binari\n",
    "#recoveredImage = np.empty((img.shape[0],img.shape[1]), dtype=\"uint8\")\n",
    "recoveredImage = np.empty((x,y), dtype=\"uint8\")\n",
    "#recoveredImage=[]\n",
    "liniesBlanques = np.arange(img.shape[1])\n",
    "liniesBlanques.fill(255)\n",
    "\n",
    "for indexLiniaBlanca in range(0,12): #12 pot ser primeraLinea\n",
    "    recoveredImage[indexLiniaBlanca] = (liniesBlanques[indexLiniaBlanca])\n",
    "    #recoveredImage.append(liniesBlanques[indexLiniaBlanca])\n",
    "#fins aqui omplim les primeres linies de blanc\n",
    "inedxMatriu=12\n",
    "#for codeWord in codeBook:\n",
    "valor=ultimaRepetida\n",
    "for index,codeWord in enumerate(codeBook):\n",
    "    if index==0:\n",
    "        recoveredImage[12] = codeWord\n",
    "        #recoveredImage.append(codeWord)\n",
    "    else:\n",
    "        if index==1:\n",
    "            for comuns in range(primeraLinea+1, ultimaRepetida):\n",
    "                recoveredImage[comuns] = codeWord\n",
    "                #recoveredImage.append(codeWord)\n",
    "        else:\n",
    "            recoveredImage[ultimaRepetida+index-2] = codeWord\n",
    "            #recoveredImage.append(codeWord)\n",
    "\n",
    "img2 = np.array(recoveredImage).reshape(img.shape[0], img.shape[1])\n",
    "\n",
    "    "
   ]
  },
  {
   "cell_type": "code",
   "execution_count": 14,
   "metadata": {},
   "outputs": [
    {
     "data": {
      "text/plain": [
       "<matplotlib.image.AxesImage at 0x111042910>"
      ]
     },
     "execution_count": 14,
     "metadata": {},
     "output_type": "execute_result"
    },
    {
     "data": {
      "image/png": "[encoded data removed]",
      "text/plain": [
       "<Figure size 432x288 with 1 Axes>"
      ]
     },
     "metadata": {
      "needs_background": "light"
     },
     "output_type": "display_data"
    }
   ],
   "source": [
    "plt.imshow(img2)"
   ]
  },
  {
   "cell_type": "code",
   "execution_count": 15,
   "metadata": {},
   "outputs": [
    {
     "name": "stdout",
     "output_type": "stream",
     "text": [
      "0.0\n"
     ]
    }
   ],
   "source": [
    "def getMSE(img1, img2):  # MSE of 2 images\n",
    "    return (np.sum(np.square(img1 - img2))) / img1.size\n",
    "\n",
    "print(getMSE(img,img2))"
   ]
  },
  {
   "cell_type": "code",
   "execution_count": 22,
   "metadata": {},
   "outputs": [],
   "source": [
    "#Huffman Coding\n",
    "#Obtenim  l''string i escomputa la freq de cada caracter a l'string\n",
    "#es calculen prob\n",
    "#es compute huffman c (length, variance and entrpy)\n",
    "probabilities = []\n",
    "\n",
    "class HuffmanCode:\n",
    "    def __init__(self,probability):\n",
    "        self.probability = probability\n",
    "\n",
    "    def position(self, value, index):\n",
    "        for j in range(len(self.probability)):\n",
    "            if(value >= self.probability[j]):\n",
    "                return j\n",
    "        return index-1\n",
    "\n",
    "    def characteristics_huffman_code(self, code):\n",
    "        length_of_code = [len(k) for k in code]\n",
    "\n",
    "        mean_length = sum([a*b for a, b in zip(length_of_code, self.probability)])\n",
    "\n",
    "        print(\"Average length of the code: %f\" % mean_length)\n",
    "        print(\"Efficiency of the code: %f\" % (entropy_of_code/mean_length))\n",
    "\n",
    "    def compute_code(self):\n",
    "        num = len(self.probability)\n",
    "        huffman_code = ['']*num\n",
    "\n",
    "        for i in range(num-2):\n",
    "            val = self.probability[num-i-1] + self.probability[num-i-2]\n",
    "            if(huffman_code[num-i-1] != '' and huffman_code[num-i-2] != ''):\n",
    "                huffman_code[-1] = ['1' + symbol for symbol in huffman_code[-1]]\n",
    "                huffman_code[-2] = ['0' + symbol for symbol in huffman_code[-2]]\n",
    "            elif(huffman_code[num-i-1] != ''):\n",
    "                huffman_code[num-i-2] = '0'\n",
    "                huffman_code[-1] = ['1' + symbol for symbol in huffman_code[-1]]\n",
    "            elif(huffman_code[num-i-2] != ''):\n",
    "                huffman_code[num-i-1] = '1'\n",
    "                huffman_code[-2] = ['0' + symbol for symbol in huffman_code[-2]]\n",
    "            else:\n",
    "                huffman_code[num-i-1] = '1'\n",
    "                huffman_code[num-i-2] = '0'\n",
    "\n",
    "            position = self.position(val, i)\n",
    "            probability = self.probability[0:(len(self.probability) - 2)]\n",
    "            probability.insert(position, val)\n",
    "            if(isinstance(huffman_code[num-i-2], list) and isinstance(huffman_code[num-i-1], list)):\n",
    "                complete_code = huffman_code[num-i-1] + huffman_code[num-i-2]\n",
    "            elif(isinstance(huffman_code[num-i-2], list)):\n",
    "                complete_code = huffman_code[num-i-2] + [huffman_code[num-i-1]]\n",
    "            elif(isinstance(huffman_code[num-i-1], list)):\n",
    "                complete_code = huffman_code[num-i-1] + [huffman_code[num-i-2]]\n",
    "            else:\n",
    "                complete_code = [huffman_code[num-i-2], huffman_code[num-i-1]]\n",
    "\n",
    "            huffman_code = huffman_code[0:(len(huffman_code)-2)]\n",
    "            huffman_code.insert(position, complete_code)\n",
    "\n",
    "        huffman_code[0] = ['0' + symbol for symbol in huffman_code[0]]\n",
    "        huffman_code[1] = ['1' + symbol for symbol in huffman_code[1]]\n",
    "\n",
    "        if(len(huffman_code[1]) == 0):\n",
    "            huffman_code[1] = '1'\n",
    "\n",
    "        count = 0\n",
    "        final_code = ['']*num\n",
    "\n",
    "        for i in range(2):\n",
    "            for j in range(len(huffman_code[i])):\n",
    "                final_code[count] = huffman_code[i][j]\n",
    "                count += 1\n",
    "\n",
    "        final_code = sorted(final_code, key=len)\n",
    "        return final_code"
   ]
  },
  {
   "cell_type": "code",
   "execution_count": 7,
   "metadata": {},
   "outputs": [],
   "source": [
    "def rel_freq(x):\n",
    "    freqs = [(value, x.count(value) / len(x)) for value in set(x)] \n",
    "    return freqs"
   ]
  },
  {
   "cell_type": "code",
   "execution_count": null,
   "metadata": {},
   "outputs": [],
   "source": []
  },
  {
   "cell_type": "code",
   "execution_count": 12,
   "metadata": {},
   "outputs": [],
   "source": [
    "freq= rel_freq(wordImage)\n",
    "\n",
    "length = len(wordImage)\n",
    "probabilities = sorted(freq, reverse=True)\n",
    "huffmanClassObject = (probabilities)\n",
    "P = probabilities\n"
   ]
  },
  {
   "cell_type": "code",
   "execution_count": 11,
   "metadata": {},
   "outputs": [
    {
     "name": "stdout",
     "output_type": "stream",
     "text": [
      "[(255, 0.8912621359223301), (254, 0.0001941747572815534), (253, 0.0003883495145631068), (252, 0.000970873786407767), (251, 0.002524271844660194), (250, 0.0007766990291262136), (248, 0.0001941747572815534), (247, 0.0033009708737864077), (245, 0.0005825242718446602), (244, 0.0001941747572815534), (243, 0.0005825242718446602), (242, 0.0001941747572815534), (241, 0.0001941747572815534), (240, 0.0007766990291262136), (239, 0.0001941747572815534), (238, 0.0005825242718446602), (237, 0.0001941747572815534), (236, 0.0003883495145631068), (232, 0.0005825242718446602), (230, 0.0003883495145631068), (229, 0.0007766990291262136), (228, 0.0001941747572815534), (226, 0.0001941747572815534), (225, 0.0001941747572815534), (224, 0.0003883495145631068), (223, 0.000970873786407767), (222, 0.0005825242718446602), (221, 0.0003883495145631068), (220, 0.0001941747572815534), (218, 0.0005825242718446602), (217, 0.0003883495145631068), (216, 0.000970873786407767), (215, 0.004077669902912621), (213, 0.0007766990291262136), (212, 0.0001941747572815534), (210, 0.0003883495145631068), (209, 0.0001941747572815534), (208, 0.0001941747572815534), (207, 0.0005825242718446602), (206, 0.0003883495145631068), (205, 0.0003883495145631068), (204, 0.0003883495145631068), (202, 0.0001941747572815534), (200, 0.0001941747572815534), (199, 0.0005825242718446602), (198, 0.0003883495145631068), (197, 0.000970873786407767), (196, 0.0001941747572815534), (195, 0.0005825242718446602), (194, 0.0003883495145631068), (193, 0.0001941747572815534), (192, 0.0005825242718446602), (191, 0.0013592233009708738), (190, 0.0003883495145631068), (188, 0.0005825242718446602), (187, 0.002330097087378641), (186, 0.0001941747572815534), (183, 0.0007766990291262136), (182, 0.0001941747572815534), (181, 0.0003883495145631068), (180, 0.0001941747572815534), (179, 0.0015533980582524273), (178, 0.0005825242718446602), (176, 0.0001941747572815534), (175, 0.000970873786407767), (169, 0.0001941747572815534), (168, 0.0007766990291262136), (167, 0.0001941747572815534), (166, 0.0001941747572815534), (165, 0.0003883495145631068), (163, 0.0001941747572815534), (162, 0.0001941747572815534), (161, 0.0003883495145631068), (156, 0.0001941747572815534), (154, 0.0001941747572815534), (152, 0.0003883495145631068), (151, 0.004660194174757282), (150, 0.0001941747572815534), (149, 0.0003883495145631068), (145, 0.0001941747572815534), (144, 0.0001941747572815534), (143, 0.0003883495145631068), (140, 0.0003883495145631068), (137, 0.0003883495145631068), (135, 0.0001941747572815534), (134, 0.0001941747572815534), (132, 0.0001941747572815534), (131, 0.0001941747572815534), (130, 0.0005825242718446602), (125, 0.0001941747572815534), (124, 0.0003883495145631068), (123, 0.0001941747572815534), (122, 0.0005825242718446602), (119, 0.0003883495145631068), (116, 0.0001941747572815534), (115, 0.0011650485436893205), (114, 0.0001941747572815534), (112, 0.0007766990291262136), (111, 0.0001941747572815534), (108, 0.0001941747572815534), (103, 0.0003883495145631068), (102, 0.0001941747572815534), (98, 0.0001941747572815534), (97, 0.0003883495145631068), (96, 0.0001941747572815534), (95, 0.0001941747572815534), (94, 0.0003883495145631068), (93, 0.0001941747572815534), (91, 0.0001941747572815534), (88, 0.0003883495145631068), (87, 0.003495145631067961), (84, 0.0005825242718446602), (82, 0.0001941747572815534), (81, 0.0003883495145631068), (80, 0.0001941747572815534), (79, 0.0001941747572815534), (77, 0.0001941747572815534), (75, 0.0001941747572815534), (72, 0.0003883495145631068), (69, 0.0003883495145631068), (68, 0.0001941747572815534), (67, 0.0003883495145631068), (66, 0.0001941747572815534), (65, 0.0001941747572815534), (64, 0.0003883495145631068), (62, 0.0001941747572815534), (61, 0.0001941747572815534), (60, 0.0003883495145631068), (59, 0.000970873786407767), (58, 0.0001941747572815534), (57, 0.0001941747572815534), (56, 0.0001941747572815534), (55, 0.0003883495145631068), (53, 0.0003883495145631068), (52, 0.0003883495145631068), (50, 0.0001941747572815534), (49, 0.0005825242718446602), (48, 0.0001941747572815534), (47, 0.0001941747572815534), (46, 0.0003883495145631068), (45, 0.0003883495145631068), (43, 0.0003883495145631068), (41, 0.0003883495145631068), (40, 0.0003883495145631068), (38, 0.0001941747572815534), (37, 0.0001941747572815534), (36, 0.0001941747572815534), (35, 0.0001941747572815534), (33, 0.0003883495145631068), (32, 0.0001941747572815534), (31, 0.0003883495145631068), (30, 0.0001941747572815534), (29, 0.0003883495145631068), (28, 0.0001941747572815534), (27, 0.0001941747572815534), (26, 0.0005825242718446602), (25, 0.0007766990291262136), (24, 0.0001941747572815534), (23, 0.0048543689320388345), (20, 0.0005825242718446602), (19, 0.0005825242718446602), (18, 0.0001941747572815534), (17, 0.0005825242718446602), (16, 0.0005825242718446602), (15, 0.000970873786407767), (14, 0.0001941747572815534), (13, 0.0003883495145631068), (12, 0.0001941747572815534), (11, 0.0003883495145631068), (10, 0.0005825242718446602), (9, 0.0005825242718446602), (8, 0.0001941747572815534), (7, 0.0005825242718446602), (6, 0.0001941747572815534), (5, 0.0005825242718446602), (3, 0.0005825242718446602), (2, 0.0003883495145631068), (1, 0.0007766990291262136), (0, 0.0170873786407767)]\n"
     ]
    }
   ],
   "source": [
    "print(probabilities)"
   ]
  },
  {
   "cell_type": "code",
   "execution_count": null,
   "metadata": {},
   "outputs": [],
   "source": [
    "\n",
    "\n",
    "huffman_code = huffmanClassObject.compute_code()\n",
    "\n",
    "print(' Value | Huffman code ')\n",
    "print('----------------------')\n",
    "\n",
    "for id,char in enumerate(freq):\n",
    "    if huffman_code[id]=='':\n",
    "        print(' %-4r |%12s' % (char[0], 1))\n",
    "        continue\n",
    "    print(' %-4r |%12s' % (char[0], huffman_code[id]))\n",
    "\n",
    "huffmanClassObject.characteristics_huffman_code(huffman_code)"
   ]
  },
  {
   "cell_type": "code",
   "execution_count": null,
   "metadata": {},
   "outputs": [],
   "source": [
    "#el codi hufmman que he provat era per paraules i no va be"
   ]
  },
  {
   "cell_type": "code",
   "execution_count": null,
   "metadata": {},
   "outputs": [],
   "source": [
    "#podem deixar aquesta ultima cell sempre per ser un to-do list\n",
    "#Per ara tenim fins a la linia 100 aprox \n",
    "#podriem calcular la segona linia diferent a partir de la primera\n",
    "#sabent els espais en blanc de la primera fila no faria falta tornar a guardarho\n",
    "#podem calcular un huffman per codificar la paraula\n",
    "#sembla que hi ha un error a la cell 12"
   ]
  },
  {
   "cell_type": "code",
   "execution_count": null,
   "metadata": {},
   "outputs": [],
   "source": []
  },
  {
   "cell_type": "code",
   "execution_count": null,
   "metadata": {},
   "outputs": [],
   "source": []
  },
  {
   "cell_type": "code",
   "execution_count": null,
   "metadata": {},
   "outputs": [],
   "source": []
  },
  {
   "cell_type": "code",
   "execution_count": null,
   "metadata": {},
   "outputs": [],
   "source": []
  },
  {
   "cell_type": "code",
   "execution_count": 53,
   "metadata": {},
   "outputs": [],
   "source": [
    "def rle_encode(data):\n",
    "    encoding = []\n",
    "    prev_char = ''\n",
    "    count = 1\n",
    "\n",
    "    for el in data:\n",
    "        if el != prev_char:\n",
    "\n",
    "            if prev_char != '':\n",
    "                encoding.append(count)\n",
    "                encoding.append(prev_char)\n",
    "                \n",
    "            count = 1\n",
    "            prev_char = el\n",
    "        else:\n",
    "            count += 1\n",
    "    else:\n",
    "        encoding.append(count)\n",
    "        encoding.append(prev_char)\n",
    "        return encoding"
   ]
  },
  {
   "cell_type": "code",
   "execution_count": null,
   "metadata": {},
   "outputs": [],
   "source": []
  },
  {
   "cell_type": "code",
   "execution_count": 54,
   "metadata": {},
   "outputs": [
    {
     "name": "stdout",
     "output_type": "stream",
     "text": [
      "[12, 255, 1, 151, 1, 0, 1, 23, 1, 255, 1, 87, 1, 151, 2, 255, 1, 23, 1, 215, 4, 255, 1, 87, 1, 151, 2, 255, 1, 23, 3, 0, 1, 23, 1, 255, 1, 87, 1, 151, 2, 255, 1, 23, 1, 215, 1, 151, 1, 0, 1, 23, 2, 255, 1, 151, 1, 87, 4, 255, 1, 215, 1, 23, 2, 255, 1, 151, 1, 87, 1, 255, 1, 23, 1, 0, 1, 151, 4, 255, 1, 151, 1, 87, 2, 255, 1, 87, 1, 151, 2, 255, 1, 23, 3, 0, 1, 23, 1, 255, 1, 87, 1, 151, 4, 255, 1, 151, 1, 87, 2, 255, 1, 87, 1, 0, 1, 87, 1, 255, 1, 23, 1, 215, 1, 255, 1, 215, 1, 23, 2, 255, 1, 151, 4, 0, 1, 151, 1, 215, 1, 23, 3, 255, 1, 215, 4, 0, 1, 87, 1, 255, 1, 23, 1, 215, 1, 151, 1, 87, 1, 255, 1, 23, 1, 215, 1, 255, 1, 215, 4, 0, 1, 87, 2, 255, 1, 87, 1, 151, 2, 255, 1, 23, 1, 0, 1, 151, 3, 255, 1, 87, 1, 151, 2, 255, 1, 23, 1, 215, 1, 151, 4, 0, 1, 151, 2, 255, 1, 23, 1, 215, 1, 255, 1, 215, 3, 0, 1, 151, 3, 255, 1, 87, 1, 0, 1, 87, 1, 255, 1, 23, 1, 215, 1, 151, 1, 0, 1, 23, 3, 255, 1, 215, 3, 0, 1, 151, 1, 215, 1, 23, 1, 255, 1, 87, 1, 0, 1, 87, 12, 255]\n",
      "262\n",
      "206\n"
     ]
    }
   ],
   "source": [
    "\n",
    "test = [255, 255, 255, 255, 255, 255, 255, 255, 255, 255, 255, 255, 151,   0,  23, 255,  87, 151,\n",
    " 255, 255,  23, 215, 255, 255, 255, 255,  87, 151, 255, 255,  23,   0,   0,   0,  23, 255,\n",
    "  87, 151, 255, 255,  23, 215, 151,   0,  23, 255, 255, 151,  87, 255, 255, 255, 255, 215,\n",
    "  23, 255, 255, 151,  87, 255,  23,   0, 151, 255, 255, 255, 255, 151,  87, 255, 255,  87,\n",
    " 151, 255, 255,  23,   0,   0,   0,  23, 255,  87, 151, 255, 255, 255, 255, 151,  87, 255,\n",
    " 255,  87,   0,  87, 255,  23, 215, 255, 215,  23, 255, 255, 151,   0,   0,   0,   0, 151,\n",
    " 215,  23, 255, 255, 255, 215,   0,   0,   0,   0,  87, 255,  23, 215, 151,  87, 255,  23,\n",
    " 215, 255, 215,   0,   0,   0,   0,  87, 255, 255,  87, 151, 255, 255,  23,   0, 151, 255,\n",
    " 255, 255,  87, 151, 255, 255,  23, 215, 151,   0,   0,   0,   0, 151, 255, 255,  23, 215,\n",
    " 255, 215,   0,   0,   0, 151, 255, 255, 255,  87,   0,  87, 255,  23, 215, 151,   0,  23,\n",
    " 255, 255, 255, 215,   0,   0,   0, 151, 215,  23, 255,  87,   0,  87, 255, 255, 255, 255,\n",
    " 255, 255, 255, 255, 255, 255, 255, 255]\n",
    "\n",
    "\n",
    "encoded_val = rle_encode(test)\n",
    "print(encoded_val)\n",
    "print(len(encoded_val))\n",
    "print(len(test))"
   ]
  },
  {
   "cell_type": "code",
   "execution_count": 56,
   "metadata": {},
   "outputs": [
    {
     "name": "stdout",
     "output_type": "stream",
     "text": [
      "[255, 255, 255, 255, 255, 255, 255, 255, 255, 255, 255, 255, 151, 0, 23, 255, 87, 151, 255, 255, 23, 215, 255, 255, 255, 255, 87, 151, 255, 255, 23, 0, 0, 0, 23, 255, 87, 151, 255, 255, 23, 215, 151, 0, 23, 255, 255, 151, 87, 255, 255, 255, 255, 215, 23, 255, 255, 151, 87, 255, 23, 0, 151, 255, 255, 255, 255, 151, 87, 255, 255, 87, 151, 255, 255, 23, 0, 0, 0, 23, 255, 87, 151, 255, 255, 255, 255, 151, 87, 255, 255, 87, 0, 87, 255, 23, 215, 255, 215, 23, 255, 255, 151, 0, 0, 0, 0, 151, 215, 23, 255, 255, 255, 215, 0, 0, 0, 0, 87, 255, 23, 215, 151, 87, 255, 23, 215, 255, 215, 0, 0, 0, 0, 87, 255, 255, 87, 151, 255, 255, 23, 0, 151, 255, 255, 255, 87, 151, 255, 255, 23, 215, 151, 0, 0, 0, 0, 151, 255, 255, 23, 215, 255, 215, 0, 0, 0, 151, 255, 255, 255, 87, 0, 87, 255, 23, 215, 151, 0, 23, 255, 255, 255, 215, 0, 0, 0, 151, 215, 23, 255, 87, 0, 87, 255, 255, 255, 255, 255, 255, 255, 255, 255, 255, 255, 255]\n"
     ]
    }
   ],
   "source": [
    "reconstructed = []\n",
    "\n",
    "for i in range(len(encoded_val)):\n",
    "    if i%2 == 0:\n",
    "        for j in range(encoded_val[i]):\n",
    "            reconstructed.append(encoded_val[i+1])\n",
    "\n",
    "        \n",
    "print(reconstructed)\n",
    "        \n",
    "    "
   ]
  },
  {
   "cell_type": "code",
   "execution_count": 58,
   "metadata": {},
   "outputs": [
    {
     "name": "stdout",
     "output_type": "stream",
     "text": [
      "True\n"
     ]
    }
   ],
   "source": [
    "print(reconstructed == test)"
   ]
  }
 ],
 "metadata": {
  "kernelspec": {
   "display_name": "Python 3",
   "language": "python",
   "name": "python3"
  },
  "language_info": {
   "codemirror_mode": {
    "name": "ipython",
    "version": 3
   },
   "file_extension": ".py",
   "mimetype": "text/x-python",
   "name": "python",
   "nbconvert_exporter": "python",
   "pygments_lexer": "ipython3",
   "version": "3.8.3"
  }
 },
 "nbformat": 4,
 "nbformat_minor": 4
}

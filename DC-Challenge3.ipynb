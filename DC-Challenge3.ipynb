{
 "cells": [
  {
   "cell_type": "code",
   "execution_count": 2,
   "metadata": {},
   "outputs": [],
   "source": [
    "import numpy as np\n",
    "import imageio\n",
    "from PIL import Image\n",
    "from matplotlib import pyplot as plt\n",
    "import math"
   ]
  },
  {
   "cell_type": "code",
   "execution_count": null,
   "metadata": {},
   "outputs": [],
   "source": []
  },
  {
   "cell_type": "code",
   "execution_count": 86,
   "metadata": {},
   "outputs": [
    {
     "name": "stdout",
     "output_type": "stream",
     "text": [
      "12\n",
      "[255 255 255 255 255 255 255 255 255 255 255 255 151   0  23 255  87 151\n",
      " 255 255  23 215 255 255 255 255  87 151 255 255 255 255 151  87 255 255\n",
      "  87   0  87 255  23 215 255 255 255 255  87   0  87 255  23 215 255 215\n",
      "  23 255  87   0   0   0   0 215 255 215  23 255 255 151  87 255  23   0\n",
      " 151 255 255 255 255 151  87 255 255  87 151 255 255  23 215 255 215   0\n",
      "   0   0   0  87 255  23 215 255 215  23 255  87   0  87 255 255 255 255\n",
      " 215   0   0 215 255 255 255 255  87 151 215  23 255 255 151  87 255 255\n",
      " 255 255 215  23 255  87   0  87 255 255  87 151 255 255  23   0 151 255\n",
      " 255 255 255 151  87 255  23 215 255 255 255 255  87   0  87 255  23 215\n",
      " 255 215  23 255  87   0   0   0   0 215 255 215  23 255 255 151  87 255\n",
      " 255 255 255 215   0   0 215 151  87 255 255  87   0  87 255 255 255 255\n",
      " 215  23 255  87 151 255 255  23 215 255 215   0   0 215 151  87 255 255\n",
      " 255 255 215   0   0 215 255 215  23 255  87 151 255 255 255 255 151   0\n",
      "  23 255 255 255 215   0   0   0 151 215  23 255  87   0  87 255 255 255\n",
      " 255 255 255 255 255 255 255 255 255]\n",
      "La fila es repeteix fins la fila 114\n"
     ]
    },
    {
     "data": {
      "image/png": "[encoded data removed]",
      "text/plain": [
       "<Figure size 432x288 with 1 Axes>"
      ]
     },
     "metadata": {
      "needs_background": "light"
     },
     "output_type": "display_data"
    }
   ],
   "source": [
    "img = imageio.imread(\"gray-barcodes/sample-000719.png\")\n",
    "plt.imshow(img) #im\n",
    "\n",
    "primeraLinea = 0\n",
    "segonaLinea = 0\n",
    "fin = 0\n",
    "\n",
    "for fila in range(img.shape[0]):\n",
    "    for columna in range(img.shape[1]):\n",
    "        if img[fila][columna] != 255:\n",
    "            if primeraLinea == 0:\n",
    "                primeraLinea = fila\n",
    "                segonaLinea = fila+1\n",
    "\n",
    "\n",
    "segonaLinea = img[segonaLinea]\n",
    "\n",
    "for x in range(primeraLinea+1, img.shape[0]):\n",
    "    \n",
    "    if img[x].all() != segonaLinea.all():\n",
    "        if fin == 0:\n",
    "            fin = x\n",
    "            \n",
    "print(primeraLinea)\n",
    "print(segonaLinea)\n",
    "print(\"La fila es repeteix fins la fila\", fin)\n"
   ]
  },
  {
   "cell_type": "code",
   "execution_count": 35,
   "metadata": {},
   "outputs": [
    {
     "name": "stdout",
     "output_type": "stream",
     "text": [
      "[255 255 255 255 255 255 255 255 255 255 255 255 151   0  23 255  87 151\n",
      " 255 255  23 215 255 255 255 255  87 151 215  23 255 255 151   0   0   0\n",
      "   0 151 255 255  23 215 151   0  23 255 255 151  87 255 255 255 255 215\n",
      "  23 255  87   0  87 255 255  87 151 255 255 255 255 151   0   0   0   0\n",
      " 151 215  23 255 255 151  87 255 255  87 151 255 255 255 255 151   0  23\n",
      " 255  87 151 255 255  23   0 151 255 255 255 255 151  87 255  23 215 255\n",
      " 215  23 255 255 151   0  23 255  87 151 255 255 255 255 151   0  23 255\n",
      " 255 255 215  23 255  87 151 255 255 255  87   0  87 255 255 255 151   0\n",
      "   0   0 215 151  87 255  23   0 151 255 255 255 255 255 255 255 255 255\n",
      " 255 255 255]\n"
     ]
    }
   ],
   "source": [
    "print(img[:][14])\n"
   ]
  },
  {
   "cell_type": "code",
   "execution_count": 70,
   "metadata": {},
   "outputs": [
    {
     "name": "stdout",
     "output_type": "stream",
     "text": [
      "2\n"
     ]
    }
   ],
   "source": [
    "for i in range(2,4):\n",
    "    print(i)\n",
    "    if i ==2:\n",
    "        break;"
   ]
  }
 ],
 "metadata": {
  "kernelspec": {
   "display_name": "Python 3",
   "language": "python",
   "name": "python3"
  },
  "language_info": {
   "codemirror_mode": {
    "name": "ipython",
    "version": 3
   },
   "file_extension": ".py",
   "mimetype": "text/x-python",
   "name": "python",
   "nbconvert_exporter": "python",
   "pygments_lexer": "ipython3",
   "version": "3.8.3"
  }
 },
 "nbformat": 4,
 "nbformat_minor": 4
}

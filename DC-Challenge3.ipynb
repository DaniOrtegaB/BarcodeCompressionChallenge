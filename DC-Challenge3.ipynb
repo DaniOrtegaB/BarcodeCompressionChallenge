{
 "cells": [
  {
   "cell_type": "code",
   "execution_count": 2,
   "metadata": {},
   "outputs": [],
   "source": [
    "import numpy as np\n",
    "import imageio\n",
    "from matplotlib import pyplot as plt\n",
    "import math"
   ]
  },
  {
   "cell_type": "code",
   "execution_count": 3,
   "metadata": {},
   "outputs": [],
   "source": [
    "class OutputBitstream:\n",
    "    def __init__(self, filename):\n",
    "        self.filename = filename\n",
    "       \n",
    "    def __enter__(self):\n",
    "        self.word = 0\n",
    "        self.word_bits = 0\n",
    "        self.file = open(self.filename, \"wb\")\n",
    "        return self\n",
    "       \n",
    "    def write(self, value, length):\n",
    "        assert isinstance(value, int), \"value must be integer\"\n",
    "        assert isinstance(length, int), \"length must be integer\"\n",
    "        assert value >= 0, \"value must be non negative\"\n",
    "        assert value < 2 ** length, \"value must be smaller than 2 ** length\"\n",
    "       \n",
    "        self.word <<= length\n",
    "        self.word |= value\n",
    "        self.word_bits += length\n",
    "   \n",
    "        if self.word_bits >= 64:\n",
    "            remaining = self.word_bits - 64\n",
    "            self.file.write((self.word >> remaining).to_bytes(8, byteorder=\"big\", signed=False))\n",
    "            self.word &= (1 << remaining) - 1\n",
    "            self.word_bits = remaining\n",
    "   \n",
    "    def __exit__(self, exc_type, exc_val, exc_tb):\n",
    "        if self.word_bits != 0:\n",
    "            self.write(0, 64 - self.word_bits)\n",
    "           \n",
    "        self.file.close()"
   ]
  },
  {
   "cell_type": "code",
   "execution_count": 4,
   "metadata": {},
   "outputs": [],
   "source": [
    "class InputBitstream:\n",
    "    def __init__(self, filename):\n",
    "        self.filename = filename\n",
    "       \n",
    "    def __enter__(self):\n",
    "        self.word = 0\n",
    "        self.word_bits = 0\n",
    "        self.file = open(self.filename, \"rb\")\n",
    "        return self\n",
    "       \n",
    "    def read(self, length):\n",
    "        assert length < 8 * 32, \"length is too large\"\n",
    "       \n",
    "        if length > self.word_bits:\n",
    "            value = self.file.read(32)\n",
    "            self.word <<= len(value) * 8\n",
    "            self.word_bits += len(value) * 8\n",
    "            self.word |= int.from_bytes(value, byteorder=\"big\", signed=False)\n",
    "           \n",
    "        if length > self.word_bits:\n",
    "            raise \"Unexpected end of file\"\n",
    "               \n",
    "        result = self.word >> (self.word_bits - length)\n",
    "        self.word_bits -= length\n",
    "        self.word &= (1 << self.word_bits) - 1\n",
    "       \n",
    "        return result\n",
    "   \n",
    "    def __exit__(self, exc_type, exc_val, exc_tb):    \n",
    "        self.file.close()"
   ]
  },
  {
   "cell_type": "code",
   "execution_count": 5,
   "metadata": {},
   "outputs": [
    {
     "data": {
      "image/png": "[encoded data removed]",
      "text/plain": [
       "<Figure size 432x288 with 1 Axes>"
      ]
     },
     "metadata": {
      "needs_background": "light"
     },
     "output_type": "display_data"
    }
   ],
   "source": [
    "img = imageio.imread(\"barcodes/sample-000002.png\")\n",
    "plt.imshow(img) #im\n",
    "\n",
    "primeraLinea = 0\n",
    "segonaLinea = 0\n",
    "ultimaRepetida = 0\n",
    "margeInferior = 0\n",
    "\n",
    "for fila in range(img.shape[0]):\n",
    "    for columna in range(img.shape[1]):\n",
    "        if img[fila][columna] != 255:\n",
    "            if primeraLinea == 0:\n",
    "                primeraLinea = fila\n",
    "                segonaLinea = fila+1\n",
    "\n",
    "\n",
    "segonaLinea = img[segonaLinea]\n",
    "\n",
    "for x in range(primeraLinea+1, img.shape[0]):\n",
    "    \n",
    "    if False in (img[x] == segonaLinea):\n",
    "        if ultimaRepetida == 0:\n",
    "            ultimaRepetida = x\n",
    "\n",
    "\n",
    "for i in range(img.shape[0]):\n",
    "    if img[i][12] != 255:\n",
    "        margeInferior = i\n",
    "\n",
    "\n",
    "            \n",
    "#Left Margin\n",
    "leftMargin = 0\n",
    "           \n",
    "for i in range(len(img[ultimaRepetida])):\n",
    "    if img[ultimaRepetida-1][i] != img[ultimaRepetida][i]:\n",
    "        if leftMargin ==0:\n",
    "            leftMargin = i\n",
    "\n",
    "            \n",
    "            \n",
    "#Right Margin\n",
    "rightMargin = 0\n",
    "anterior = 0\n",
    "\n",
    "#for i in reversed(range(len(img[ultimaRepetida]))):\n",
    "for i in reversed(range(img.shape[1])):\n",
    "    if img[ultimaRepetida-1][i] != img[ultimaRepetida][i]:\n",
    "        if rightMargin ==0:\n",
    "            rightMargin = anterior\n",
    "    anterior = i\n",
    "            \n",
    "            \n",
    "#print(margeInferior)\n",
    "#print(leftMargin)\n",
    "#print(rightMargin)\n",
    "#print('---------')\n",
    "#print(primeraLinea)\n",
    "#print(segonaLinea)\n",
    "#print(\"La fila es repeteix fins la fila\", ultimaRepetida)\n"
   ]
  },
  {
   "cell_type": "code",
   "execution_count": null,
   "metadata": {},
   "outputs": [],
   "source": []
  },
  {
   "cell_type": "code",
   "execution_count": 6,
   "metadata": {},
   "outputs": [],
   "source": [
    "#Fins ara tenim una funcio que retorna la ultima fila que es repeteix dins del barcode\n",
    "# codeBook = primeraLinia + SegonaLinia + totes les linies que no es repeteixen\n",
    "# a cada linia li podem dir codeword\n",
    "# per ara hardcodegem les mesures, ja les enviarem\n",
    "\n",
    "#codeBook =[]\n",
    "#codeBook.append(img[primeraLinea])\n",
    "#codeBook.append(segonaLinea)\n",
    "\n",
    "#wordImage = []\n",
    "\n",
    "#for i in range(ultimaRepetida, img.shape[0]):\n",
    "#    for value in img[i]:   \n",
    "#        wordImage.append(value)\n",
    "#    codeBook.append(img[i])\n",
    "#wordImageNP = np.array(wordImage)\n",
    "#wordImageNP.resize(img.shape[1],img.shape[0]-ultimaRepetida)\n",
    "\n",
    "#print(\"Generat Codebook\")\n"
   ]
  },
  {
   "cell_type": "code",
   "execution_count": 7,
   "metadata": {},
   "outputs": [],
   "source": [
    "def getMSE(img1, img2):  # MSE of 2 images\n",
    "    return (np.sum(np.square(img1 - img2))) / img1.size\n"
   ]
  },
  {
   "cell_type": "code",
   "execution_count": null,
   "metadata": {},
   "outputs": [],
   "source": []
  },
  {
   "cell_type": "code",
   "execution_count": null,
   "metadata": {},
   "outputs": [],
   "source": []
  },
  {
   "cell_type": "code",
   "execution_count": 8,
   "metadata": {},
   "outputs": [],
   "source": [
    "#Obtenir la primera a partir de la segona --> mitja del valor i color blanc(255)\n",
    "\n",
    "def getFirstLine(common):\n",
    "    computedPrimera = []\n",
    "\n",
    "    for el in common:\n",
    "        newVal = (el+255)//2\n",
    "        if newVal> (el+(255//2)+0.5):\n",
    "            newVal+=1\n",
    "        computedPrimera.append(newVal)\n",
    "    \n",
    "    return computedPrimera\n",
    "\n",
    "\n",
    "def getLastLine(common):\n",
    "    computedLast = []\n",
    "\n",
    "    for el in common:\n",
    "        if el != 255:\n",
    "            newVal = (el+255)//1.77\n",
    "            if newVal> (el+(255//1.77)+0.5):\n",
    "                newVal+=1\n",
    "        else:\n",
    "            newVal = 255\n",
    "        computedLast.append(newVal)\n",
    "            \n",
    "    return computedLast\n"
   ]
  },
  {
   "cell_type": "code",
   "execution_count": null,
   "metadata": {},
   "outputs": [],
   "source": []
  },
  {
   "cell_type": "code",
   "execution_count": 9,
   "metadata": {
    "scrolled": true
   },
   "outputs": [],
   "source": [
    "shape_x = img.shape[1]\n",
    "shape_y = img.shape[0]\n",
    "\n",
    "test1 = np.asarray(img[13]) #common row\n",
    "test1 = test1.tolist()\n",
    "\n",
    "\n",
    "#remove first and last 12 255\n",
    "test = test1[12:-12]\n",
    "\n",
    "#print(test)\n",
    "\n",
    "\n",
    "#write\n",
    "with open('test222.bin', \"wb+\") as f:\n",
    "    \n",
    "    #header\n",
    "    f.write(shape_y.to_bytes(3, byteorder=\"big\", signed=False))\n",
    "    f.write(shape_x.to_bytes(3, byteorder=\"big\", signed=False))\n",
    "    \n",
    "    \n",
    "    for i in range(len(test)):\n",
    "        f.write(test[i].to_bytes(3, byteorder=\"big\", signed=False))\n",
    "    \n",
    "    for i in range(12, leftMargin):\n",
    "        f.write(int(img[margeInferior][i]).to_bytes(3, byteorder=\"big\", signed=False))\n",
    "    \n",
    "    for i in range(rightMargin, shape_x):\n",
    "        f.write(int(img[margeInferior][i]).to_bytes(3, byteorder=\"big\", signed=False))\n",
    "            \n",
    "            \n",
    "#read \n",
    "commonLine =[]\n",
    "\n",
    "with open('test222.bin', \"rb\") as f:\n",
    "    testReconstructed = []\n",
    "    read = f.read()\n",
    "    i=0\n",
    "    cont=0\n",
    "    ultimaRepetida = 100\n",
    "    \n",
    "    #header\n",
    "    reconstructed_y = int.from_bytes(read[:3], byteorder=\"big\")\n",
    "    reconstructed_x = int.from_bytes(read[3:6], byteorder=\"big\")\n",
    "    \n",
    "    \n",
    "    ultimaLinea = [255 for i in range(reconstructed_x)]\n",
    "    \n",
    "        \n",
    "    read = read[6:]\n",
    "    \n",
    "    \n",
    "    for j in range(len(test)):\n",
    "    \n",
    "        commonLine.append(int.from_bytes(read[i:i+3], byteorder=\"big\"))\n",
    "        i+=3\n",
    "    \n",
    "    \n",
    "    #ultima linea\n",
    "    for j in range(12, leftMargin):\n",
    "        ultimaLinea[j] = int.from_bytes(read[i:i+3], byteorder=\"big\")\n",
    "        i+=3\n",
    "        \n",
    "    \n",
    "    for j in range(rightMargin, shape_x):\n",
    "        ultimaLinea[j] = int.from_bytes(read[i:i+3], byteorder=\"big\")\n",
    "        i+=3\n",
    "\n",
    "\n",
    "#reconstruir\n",
    "\n",
    "#12 first 255\n",
    "finalReconstructed = [255 for x in range(12)]\n",
    "\n",
    "#12 last 255\n",
    "for i in range(12):\n",
    "    commonLine.append(255)\n",
    "\n",
    "    \n",
    "finalReconstructed += commonLine\n",
    "\n",
    "\n",
    "#print(finalReconstructed)\n",
    "\n",
    "primera = getFirstLine(finalReconstructed)\n",
    "ultima = getLastLine(finalReconstructed)\n",
    "\n",
    "\n",
    "img_reconstructed = np.array([[255 for x in range(shape_x)] for j in range(shape_y)])\n",
    "\n",
    "#asignem la primera fila\n",
    "img_reconstructed[12] = primera\n",
    "img_reconstructed[13:ultimaRepetida] = finalReconstructed\n",
    "\n",
    "\n",
    "\n",
    "#laterals:\n",
    "\n",
    "#LEFT\n",
    "for i in range(ultimaRepetida, margeInferior):\n",
    "    for j in range(leftMargin):\n",
    "        img_reconstructed[i][j] = finalReconstructed[j]\n",
    "\n",
    "#RIGHT\n",
    "for i in range(ultimaRepetida, margeInferior):\n",
    "    for j in reversed(range(rightMargin, reconstructed_x)):\n",
    "        img_reconstructed[i][j] = finalReconstructed[j]\n",
    "\n",
    "        \n",
    "#Last Line\n",
    "for j in range(12, leftMargin):\n",
    "    img_reconstructed[margeInferior][j] = ultimaLinea[j]\n",
    "\n",
    "for j in reversed(range(rightMargin, reconstructed_x-12)):\n",
    "    img_reconstructed[margeInferior][j] = ultimaLinea[j]\n",
    "\n"
   ]
  },
  {
   "cell_type": "code",
   "execution_count": null,
   "metadata": {
    "scrolled": true
   },
   "outputs": [],
   "source": []
  },
  {
   "cell_type": "code",
   "execution_count": null,
   "metadata": {},
   "outputs": [],
   "source": []
  },
  {
   "cell_type": "code",
   "execution_count": null,
   "metadata": {},
   "outputs": [],
   "source": []
  },
  {
   "cell_type": "code",
   "execution_count": 10,
   "metadata": {},
   "outputs": [
    {
     "data": {
      "text/plain": [
       "<matplotlib.image.AxesImage at 0x11c9537f0>"
      ]
     },
     "execution_count": 10,
     "metadata": {},
     "output_type": "execute_result"
    },
    {
     "data": {
      "image/png": "[encoded data removed]",
      "text/plain": [
       "<Figure size 432x288 with 1 Axes>"
      ]
     },
     "metadata": {
      "needs_background": "light"
     },
     "output_type": "display_data"
    }
   ],
   "source": [
    "right = np.array([[255 for x in range(shape_x)] for j in range(shape_y)])\n",
    "\n",
    "for i in range(shape_y):\n",
    "    for j in range(shape_x):\n",
    "        if img[i][j] == img_reconstructed[i][j]:\n",
    "            right[i][j] = 0\n",
    "        \n",
    "            \n",
    "        \n",
    "plt.imshow(np.asarray(right))        "
   ]
  },
  {
   "cell_type": "code",
   "execution_count": null,
   "metadata": {},
   "outputs": [],
   "source": []
  },
  {
   "cell_type": "code",
   "execution_count": 11,
   "metadata": {},
   "outputs": [
    {
     "data": {
      "text/plain": [
       "<matplotlib.image.AxesImage at 0x11c9b0e80>"
      ]
     },
     "execution_count": 11,
     "metadata": {},
     "output_type": "execute_result"
    },
    {
     "data": {
      "image/png": "[encoded data removed]",
      "text/plain": [
       "<Figure size 432x288 with 1 Axes>"
      ]
     },
     "metadata": {
      "needs_background": "light"
     },
     "output_type": "display_data"
    }
   ],
   "source": [
    "plt.imshow(np.asarray(img_reconstructed))"
   ]
  },
  {
   "cell_type": "code",
   "execution_count": 12,
   "metadata": {},
   "outputs": [],
   "source": [
    "def rel_freq(x):\n",
    "    freqs = [(value, x.count(value) / len(x)) for value in set(x)] \n",
    "    return sorted(freqs,key=lambda x:x[::-1],reverse=True)"
   ]
  },
  {
   "cell_type": "code",
   "execution_count": 13,
   "metadata": {},
   "outputs": [
    {
     "name": "stdout",
     "output_type": "stream",
     "text": [
      "125\n"
     ]
    }
   ],
   "source": [
    "print(shape_y)"
   ]
  },
  {
   "cell_type": "code",
   "execution_count": 18,
   "metadata": {},
   "outputs": [
    {
     "name": "stdout",
     "output_type": "stream",
     "text": [
      "0.22505960264900662\n"
     ]
    }
   ],
   "source": [
    "print((531*8)/(shape_x*shape_y)) #calcul dels bps actuals"
   ]
  },
  {
   "cell_type": "code",
   "execution_count": null,
   "metadata": {},
   "outputs": [],
   "source": []
  }
 ],
 "metadata": {
  "kernelspec": {
   "display_name": "Python 3",
   "language": "python",
   "name": "python3"
  },
  "language_info": {
   "codemirror_mode": {
    "name": "ipython",
    "version": 3
   },
   "file_extension": ".py",
   "mimetype": "text/x-python",
   "name": "python",
   "nbconvert_exporter": "python",
   "pygments_lexer": "ipython3",
   "version": "3.8.2"
  }
 },
 "nbformat": 4,
 "nbformat_minor": 4
}
